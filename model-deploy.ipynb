{
 "cells": [
  {
   "cell_type": "code",
   "execution_count": 1,
   "id": "ff3d0372",
   "metadata": {},
   "outputs": [
    {
     "name": "stdout",
     "output_type": "stream",
     "text": [
      "Writing predict.py\n"
     ]
    }
   ],
   "source": [
    "%%writefile predict.py\n",
    "import os\n",
    "import numpy as np\n",
    "import hopsworks\n",
    "import joblib\n",
    "\n",
    "\n",
    "class Predict(object):\n",
    "\n",
    "    def __init__(self):\n",
    "        \"\"\" Initializes the serving state, reads a trained model\"\"\"        \n",
    "        # Get feature store handle\n",
    "        project = hopsworks.login()\n",
    "        self.mr = project.get_model_registry()\n",
    "        \n",
    "        # Retrieve the feature view from the model\n",
    "        retrieved_model = self.mr.get_model(\n",
    "            name=\"prophet_parking_forecast\",\n",
    "            version=1,\n",
    "        )\n",
    "\n",
    "        self.model = joblib.load(os.environ[\"MODEL_FILES_PATH\"] + \"/prophet_parking_forecast.pkl\")\n",
    "        print(\"Initialization Complete\")\n",
    "\n",
    "    def predict(self, inputs):\n",
    "        \"\"\" Serves a prediction request usign a trained model\"\"\"\n",
    "        hours = int(inputs[0][0])\n",
    "        \n",
    "        future[\"cap\"] = cap_value     # or your actual upper limit\n",
    "        future[\"floor\"] = 0.0   # or your actual lower limit\n",
    "        future = model.make_future_dataframe(periods=hours*60, freq=\"min\")\n",
    "        forecast = model.predict(future)\n",
    "        \n",
    "        return "
   ]
  },
  {
   "cell_type": "code",
   "execution_count": 4,
   "id": "ba7fc2d1",
   "metadata": {},
   "outputs": [
    {
     "name": "stdout",
     "output_type": "stream",
     "text": [
      "Connection closed.\n",
      "2025-10-23 13:57:59,969 INFO: Python Engine initialized.\n",
      "\n",
      "Logged in to project, explore it here https://hopsworks-stackit.hops.works/p/11384\n"
     ]
    },
    {
     "data": {
      "application/vnd.jupyter.widget-view+json": {
       "model_id": "e5a475ad95e246eb8b46f195ae9b622c",
       "version_major": 2,
       "version_minor": 0
      },
      "text/plain": [
       "Uploading: 0.000%|          | 0/1037 elapsed<00:00 remaining<?"
      ]
     },
     "metadata": {},
     "output_type": "display_data"
    }
   ],
   "source": [
    "import hopsworks\n",
    "import os\n",
    "project = hopsworks.login()\n",
    "\n",
    "# Get the dataset API from the project\n",
    "dataset_api = project.get_dataset_api()\n",
    "\n",
    "# Specify the file to upload (\"predict_example.py\") to the \"Models\" directory, and allow overwriting\n",
    "uploaded_file_path = dataset_api.upload(\"predict.py\", \"Models\", overwrite=True)\n",
    "\n",
    "# Construct the full path to the uploaded predictor script\n",
    "predictor_script_path = os.path.join(\"/Projects\", project.name, uploaded_file_path)"
   ]
  },
  {
   "cell_type": "code",
   "execution_count": 6,
   "id": "b0a59252",
   "metadata": {},
   "outputs": [
    {
     "name": "stdout",
     "output_type": "stream",
     "text": [
      "Deployment created, explore it at https://hopsworks-stackit.hops.works/p/11384/deployments/3074\n",
      "Before making predictions, start the deployment by using `.start()`\n"
     ]
    }
   ],
   "source": [
    "mr = project.get_model_registry()\n",
    "\n",
    "# Retrieve the feature view from the model\n",
    "retrieved_model = mr.get_model(\n",
    "    name=\"prophet_parking_forecast\",\n",
    "    version=1,\n",
    ")\n",
    "\n",
    "\n",
    "# Deploy the fraud model\n",
    "deployment = retrieved_model.deploy(\n",
    "    name=\"parking\",                       # Specify the deployment name\n",
    "    script_file=predictor_script_path,  # Provide the path to the predictor script\n",
    ")"
   ]
  },
  {
   "cell_type": "code",
   "execution_count": null,
   "id": "a68fec2d",
   "metadata": {},
   "outputs": [],
   "source": [
    "deployment.start(await_running=180)\n",
    "deployment_state = deployment.get_state().describe()"
   ]
  },
  {
   "cell_type": "code",
   "execution_count": null,
   "id": "7360afb7",
   "metadata": {},
   "outputs": [],
   "source": []
  }
 ],
 "metadata": {
  "kernelspec": {
   "display_name": "Python",
   "language": "python",
   "name": "python3"
  },
  "language_info": {
   "codemirror_mode": {
    "name": "ipython",
    "version": 3
   },
   "file_extension": ".py",
   "mimetype": "text/x-python",
   "name": "python",
   "nbconvert_exporter": "python",
   "pygments_lexer": "ipython3",
   "version": "3.10.11"
  }
 },
 "nbformat": 4,
 "nbformat_minor": 5
}
