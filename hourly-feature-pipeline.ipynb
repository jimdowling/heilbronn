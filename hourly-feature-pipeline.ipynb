{
 "cells": [
  {
   "cell_type": "code",
   "execution_count": 1,
   "id": "5223e0f5",
   "metadata": {},
   "outputs": [
    {
     "name": "stdout",
     "output_type": "stream",
     "text": [
      "2025-10-23 04:51:10,957 INFO: Python Engine initialized.\n",
      "\n",
      "Logged in to project, explore it here https://hopsworks-stackit.hops.works/p/11384\n",
      "2025-10-23 04:51:11,357 WARNING: VersionWarning: No version provided for getting feature group `parking`, defaulting to `1`.\n",
      "\n",
      "Time now is: 2025-10-23 06:51:11.578507+02:00\n",
      "Unix time now is: 1761195071.578507\n",
      "API unix timestamp returned is: 1761195060.005\n",
      "API latest timestamp returned is: 2025-10-23 06:51:00.005000+02:00\n"
     ]
    },
    {
     "data": {
      "text/html": [
       "<div>\n",
       "<style scoped>\n",
       "    .dataframe tbody tr th:only-of-type {\n",
       "        vertical-align: middle;\n",
       "    }\n",
       "\n",
       "    .dataframe tbody tr th {\n",
       "        vertical-align: top;\n",
       "    }\n",
       "\n",
       "    .dataframe thead th {\n",
       "        text-align: right;\n",
       "    }\n",
       "</style>\n",
       "<table border=\"1\" class=\"dataframe\">\n",
       "  <thead>\n",
       "    <tr style=\"text-align: right;\">\n",
       "      <th></th>\n",
       "      <th>carpark_id</th>\n",
       "      <th>carpark_name</th>\n",
       "      <th>unix_time</th>\n",
       "      <th>y</th>\n",
       "      <th>vendor</th>\n",
       "      <th>ds</th>\n",
       "    </tr>\n",
       "  </thead>\n",
       "  <tbody>\n",
       "    <tr>\n",
       "      <th>49</th>\n",
       "      <td>mitte</td>\n",
       "      <td>Parkhaus Mitte</td>\n",
       "      <td>1761194460004</td>\n",
       "      <td>11.0</td>\n",
       "      <td>MSR</td>\n",
       "      <td>2025-10-23 06:41:00.004000+02:00</td>\n",
       "    </tr>\n",
       "    <tr>\n",
       "      <th>50</th>\n",
       "      <td>mitte</td>\n",
       "      <td>Parkhaus Mitte</td>\n",
       "      <td>1761194520010</td>\n",
       "      <td>11.0</td>\n",
       "      <td>MSR</td>\n",
       "      <td>2025-10-23 06:42:00.010000+02:00</td>\n",
       "    </tr>\n",
       "    <tr>\n",
       "      <th>51</th>\n",
       "      <td>mitte</td>\n",
       "      <td>Parkhaus Mitte</td>\n",
       "      <td>1761194580009</td>\n",
       "      <td>12.0</td>\n",
       "      <td>MSR</td>\n",
       "      <td>2025-10-23 06:43:00.009000+02:00</td>\n",
       "    </tr>\n",
       "    <tr>\n",
       "      <th>52</th>\n",
       "      <td>mitte</td>\n",
       "      <td>Parkhaus Mitte</td>\n",
       "      <td>1761194640003</td>\n",
       "      <td>12.0</td>\n",
       "      <td>MSR</td>\n",
       "      <td>2025-10-23 06:44:00.003000+02:00</td>\n",
       "    </tr>\n",
       "    <tr>\n",
       "      <th>53</th>\n",
       "      <td>mitte</td>\n",
       "      <td>Parkhaus Mitte</td>\n",
       "      <td>1761194700008</td>\n",
       "      <td>12.0</td>\n",
       "      <td>MSR</td>\n",
       "      <td>2025-10-23 06:45:00.008000+02:00</td>\n",
       "    </tr>\n",
       "    <tr>\n",
       "      <th>54</th>\n",
       "      <td>mitte</td>\n",
       "      <td>Parkhaus Mitte</td>\n",
       "      <td>1761194760017</td>\n",
       "      <td>12.0</td>\n",
       "      <td>MSR</td>\n",
       "      <td>2025-10-23 06:46:00.017000+02:00</td>\n",
       "    </tr>\n",
       "    <tr>\n",
       "      <th>55</th>\n",
       "      <td>mitte</td>\n",
       "      <td>Parkhaus Mitte</td>\n",
       "      <td>1761194820003</td>\n",
       "      <td>12.0</td>\n",
       "      <td>MSR</td>\n",
       "      <td>2025-10-23 06:47:00.003000+02:00</td>\n",
       "    </tr>\n",
       "    <tr>\n",
       "      <th>56</th>\n",
       "      <td>mitte</td>\n",
       "      <td>Parkhaus Mitte</td>\n",
       "      <td>1761194880004</td>\n",
       "      <td>13.0</td>\n",
       "      <td>MSR</td>\n",
       "      <td>2025-10-23 06:48:00.004000+02:00</td>\n",
       "    </tr>\n",
       "    <tr>\n",
       "      <th>57</th>\n",
       "      <td>mitte</td>\n",
       "      <td>Parkhaus Mitte</td>\n",
       "      <td>1761194940002</td>\n",
       "      <td>14.0</td>\n",
       "      <td>MSR</td>\n",
       "      <td>2025-10-23 06:49:00.002000+02:00</td>\n",
       "    </tr>\n",
       "    <tr>\n",
       "      <th>58</th>\n",
       "      <td>mitte</td>\n",
       "      <td>Parkhaus Mitte</td>\n",
       "      <td>1761195000005</td>\n",
       "      <td>14.0</td>\n",
       "      <td>MSR</td>\n",
       "      <td>2025-10-23 06:50:00.005000+02:00</td>\n",
       "    </tr>\n",
       "  </tbody>\n",
       "</table>\n",
       "</div>"
      ],
      "text/plain": [
       "   carpark_id    carpark_name      unix_time     y vendor  \\\n",
       "49      mitte  Parkhaus Mitte  1761194460004  11.0    MSR   \n",
       "50      mitte  Parkhaus Mitte  1761194520010  11.0    MSR   \n",
       "51      mitte  Parkhaus Mitte  1761194580009  12.0    MSR   \n",
       "52      mitte  Parkhaus Mitte  1761194640003  12.0    MSR   \n",
       "53      mitte  Parkhaus Mitte  1761194700008  12.0    MSR   \n",
       "54      mitte  Parkhaus Mitte  1761194760017  12.0    MSR   \n",
       "55      mitte  Parkhaus Mitte  1761194820003  12.0    MSR   \n",
       "56      mitte  Parkhaus Mitte  1761194880004  13.0    MSR   \n",
       "57      mitte  Parkhaus Mitte  1761194940002  14.0    MSR   \n",
       "58      mitte  Parkhaus Mitte  1761195000005  14.0    MSR   \n",
       "\n",
       "                                 ds  \n",
       "49 2025-10-23 06:41:00.004000+02:00  \n",
       "50 2025-10-23 06:42:00.010000+02:00  \n",
       "51 2025-10-23 06:43:00.009000+02:00  \n",
       "52 2025-10-23 06:44:00.003000+02:00  \n",
       "53 2025-10-23 06:45:00.008000+02:00  \n",
       "54 2025-10-23 06:46:00.017000+02:00  \n",
       "55 2025-10-23 06:47:00.003000+02:00  \n",
       "56 2025-10-23 06:48:00.004000+02:00  \n",
       "57 2025-10-23 06:49:00.002000+02:00  \n",
       "58 2025-10-23 06:50:00.005000+02:00  "
      ]
     },
     "execution_count": 1,
     "metadata": {},
     "output_type": "execute_result"
    }
   ],
   "source": [
    "import hopsworks\n",
    "import parking\n",
    "\n",
    "proj = hopsworks.login()\n",
    "fs = proj.get_feature_store()\n",
    "fg = fs.get_feature_group(\"parking\")\n",
    "\n",
    "prev_hours=1\n",
    "df = parking.get_parking_last_hour(hours=prev_hours)\n",
    "df.tail(10)"
   ]
  },
  {
   "cell_type": "code",
   "execution_count": 2,
   "id": "3bf6ba14",
   "metadata": {},
   "outputs": [
    {
     "name": "stderr",
     "output_type": "stream",
     "text": [
      "Uploading Dataframe: 100.00% |██████████| Rows 59/59 | Elapsed Time: 00:00 | Remaining Time: 00:00\n"
     ]
    },
    {
     "name": "stdout",
     "output_type": "stream",
     "text": [
      "Launching job: parking_1_offline_fg_materialization\n",
      "Job started successfully, you can follow the progress at \n",
      "https://hopsworks-stackit.hops.works/p/11384/jobs/named/parking_1_offline_fg_materialization/executions\n"
     ]
    },
    {
     "data": {
      "text/plain": [
       "(Job('parking_1_offline_fg_materialization', 'SPARK'), None)"
      ]
     },
     "execution_count": 2,
     "metadata": {},
     "output_type": "execute_result"
    }
   ],
   "source": [
    "fg.insert(df)"
   ]
  }
 ],
 "metadata": {
  "kernelspec": {
   "display_name": "Python",
   "language": "python",
   "name": "python3"
  },
  "language_info": {
   "codemirror_mode": {
    "name": "ipython",
    "version": 3
   },
   "file_extension": ".py",
   "mimetype": "text/x-python",
   "name": "python",
   "nbconvert_exporter": "python",
   "pygments_lexer": "ipython3",
   "version": "3.10.11"
  }
 },
 "nbformat": 4,
 "nbformat_minor": 5
}
