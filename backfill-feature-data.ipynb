{
 "cells": [
  {
   "cell_type": "code",
   "execution_count": 1,
   "id": "234103a9",
   "metadata": {},
   "outputs": [
    {
     "name": "stdout",
     "output_type": "stream",
     "text": [
      "  carpark_id    carpark_name vendor  \\\n",
      "0      mitte  Parkhaus Mitte    MSR   \n",
      "1      mitte  Parkhaus Mitte    MSR   \n",
      "2      mitte  Parkhaus Mitte    MSR   \n",
      "3      mitte  Parkhaus Mitte    MSR   \n",
      "4      mitte  Parkhaus Mitte    MSR   \n",
      "\n",
      "                                      current  \n",
      "0  {'timestamp': 1728916440012, 'value': 218}  \n",
      "1  {'timestamp': 1728916560015, 'value': 215}  \n",
      "2  {'timestamp': 1728916680007, 'value': 209}  \n",
      "3  {'timestamp': 1728916800007, 'value': 206}  \n",
      "4  {'timestamp': 1728916920011, 'value': 200}  \n"
     ]
    }
   ],
   "source": [
    "import pandas as pd\n",
    "\n",
    "df = pd.read_parquet(\"data\")\n",
    "print(df.head())"
   ]
  },
  {
   "cell_type": "code",
   "execution_count": 2,
   "id": "e5f7e5da",
   "metadata": {},
   "outputs": [
    {
     "data": {
      "text/html": [
       "<div>\n",
       "<style scoped>\n",
       "    .dataframe tbody tr th:only-of-type {\n",
       "        vertical-align: middle;\n",
       "    }\n",
       "\n",
       "    .dataframe tbody tr th {\n",
       "        vertical-align: top;\n",
       "    }\n",
       "\n",
       "    .dataframe thead th {\n",
       "        text-align: right;\n",
       "    }\n",
       "</style>\n",
       "<table border=\"1\" class=\"dataframe\">\n",
       "  <thead>\n",
       "    <tr style=\"text-align: right;\">\n",
       "      <th></th>\n",
       "      <th>carpark_id</th>\n",
       "      <th>carpark_name</th>\n",
       "      <th>vendor</th>\n",
       "      <th>unix_time</th>\n",
       "      <th>y</th>\n",
       "      <th>ds</th>\n",
       "    </tr>\n",
       "  </thead>\n",
       "  <tbody>\n",
       "    <tr>\n",
       "      <th>0</th>\n",
       "      <td>mitte</td>\n",
       "      <td>Parkhaus Mitte</td>\n",
       "      <td>MSR</td>\n",
       "      <td>1728916440012</td>\n",
       "      <td>218.0</td>\n",
       "      <td>2024-10-14 16:34:00.012000+02:00</td>\n",
       "    </tr>\n",
       "    <tr>\n",
       "      <th>1</th>\n",
       "      <td>mitte</td>\n",
       "      <td>Parkhaus Mitte</td>\n",
       "      <td>MSR</td>\n",
       "      <td>1728916560015</td>\n",
       "      <td>215.0</td>\n",
       "      <td>2024-10-14 16:36:00.015000+02:00</td>\n",
       "    </tr>\n",
       "    <tr>\n",
       "      <th>2</th>\n",
       "      <td>mitte</td>\n",
       "      <td>Parkhaus Mitte</td>\n",
       "      <td>MSR</td>\n",
       "      <td>1728916680007</td>\n",
       "      <td>209.0</td>\n",
       "      <td>2024-10-14 16:38:00.007000+02:00</td>\n",
       "    </tr>\n",
       "    <tr>\n",
       "      <th>3</th>\n",
       "      <td>mitte</td>\n",
       "      <td>Parkhaus Mitte</td>\n",
       "      <td>MSR</td>\n",
       "      <td>1728916800007</td>\n",
       "      <td>206.0</td>\n",
       "      <td>2024-10-14 16:40:00.007000+02:00</td>\n",
       "    </tr>\n",
       "    <tr>\n",
       "      <th>4</th>\n",
       "      <td>mitte</td>\n",
       "      <td>Parkhaus Mitte</td>\n",
       "      <td>MSR</td>\n",
       "      <td>1728916920011</td>\n",
       "      <td>200.0</td>\n",
       "      <td>2024-10-14 16:42:00.011000+02:00</td>\n",
       "    </tr>\n",
       "    <tr>\n",
       "      <th>5</th>\n",
       "      <td>mitte</td>\n",
       "      <td>Parkhaus Mitte</td>\n",
       "      <td>MSR</td>\n",
       "      <td>1728917040004</td>\n",
       "      <td>201.0</td>\n",
       "      <td>2024-10-14 16:44:00.004000+02:00</td>\n",
       "    </tr>\n",
       "    <tr>\n",
       "      <th>6</th>\n",
       "      <td>mitte</td>\n",
       "      <td>Parkhaus Mitte</td>\n",
       "      <td>MSR</td>\n",
       "      <td>1728917160011</td>\n",
       "      <td>198.0</td>\n",
       "      <td>2024-10-14 16:46:00.011000+02:00</td>\n",
       "    </tr>\n",
       "    <tr>\n",
       "      <th>7</th>\n",
       "      <td>mitte</td>\n",
       "      <td>Parkhaus Mitte</td>\n",
       "      <td>MSR</td>\n",
       "      <td>1728917280004</td>\n",
       "      <td>196.0</td>\n",
       "      <td>2024-10-14 16:48:00.004000+02:00</td>\n",
       "    </tr>\n",
       "    <tr>\n",
       "      <th>8</th>\n",
       "      <td>mitte</td>\n",
       "      <td>Parkhaus Mitte</td>\n",
       "      <td>MSR</td>\n",
       "      <td>1728917760011</td>\n",
       "      <td>179.0</td>\n",
       "      <td>2024-10-14 16:56:00.011000+02:00</td>\n",
       "    </tr>\n",
       "    <tr>\n",
       "      <th>9</th>\n",
       "      <td>mitte</td>\n",
       "      <td>Parkhaus Mitte</td>\n",
       "      <td>MSR</td>\n",
       "      <td>1728917880007</td>\n",
       "      <td>177.0</td>\n",
       "      <td>2024-10-14 16:58:00.007000+02:00</td>\n",
       "    </tr>\n",
       "  </tbody>\n",
       "</table>\n",
       "</div>"
      ],
      "text/plain": [
       "  carpark_id    carpark_name vendor      unix_time      y  \\\n",
       "0      mitte  Parkhaus Mitte    MSR  1728916440012  218.0   \n",
       "1      mitte  Parkhaus Mitte    MSR  1728916560015  215.0   \n",
       "2      mitte  Parkhaus Mitte    MSR  1728916680007  209.0   \n",
       "3      mitte  Parkhaus Mitte    MSR  1728916800007  206.0   \n",
       "4      mitte  Parkhaus Mitte    MSR  1728916920011  200.0   \n",
       "5      mitte  Parkhaus Mitte    MSR  1728917040004  201.0   \n",
       "6      mitte  Parkhaus Mitte    MSR  1728917160011  198.0   \n",
       "7      mitte  Parkhaus Mitte    MSR  1728917280004  196.0   \n",
       "8      mitte  Parkhaus Mitte    MSR  1728917760011  179.0   \n",
       "9      mitte  Parkhaus Mitte    MSR  1728917880007  177.0   \n",
       "\n",
       "                                ds  \n",
       "0 2024-10-14 16:34:00.012000+02:00  \n",
       "1 2024-10-14 16:36:00.015000+02:00  \n",
       "2 2024-10-14 16:38:00.007000+02:00  \n",
       "3 2024-10-14 16:40:00.007000+02:00  \n",
       "4 2024-10-14 16:42:00.011000+02:00  \n",
       "5 2024-10-14 16:44:00.004000+02:00  \n",
       "6 2024-10-14 16:46:00.011000+02:00  \n",
       "7 2024-10-14 16:48:00.004000+02:00  \n",
       "8 2024-10-14 16:56:00.011000+02:00  \n",
       "9 2024-10-14 16:58:00.007000+02:00  "
      ]
     },
     "execution_count": 2,
     "metadata": {},
     "output_type": "execute_result"
    }
   ],
   "source": [
    "current_df = pd.json_normalize(df[\"current\"])\n",
    "df = pd.concat([df.drop(columns=[\"current\"]), current_df], axis=1)\n",
    "df = df.rename(columns={\"timestamp\": \"unix_time\"})\n",
    "df[\"ds\"] = (\n",
    "    pd.to_datetime(df[\"unix_time\"], unit=\"ms\", utc=True)\n",
    "    .dt.tz_convert(\"Europe/Berlin\")\n",
    ")  \n",
    "df = df.rename(columns={\"value\": \"y\"})\n",
    "df[\"y\"] = df[\"y\"].astype(float)\n",
    "\n",
    "df.head(10)"
   ]
  },
  {
   "cell_type": "code",
   "execution_count": 3,
   "id": "ce3c1788",
   "metadata": {},
   "outputs": [
    {
     "name": "stdout",
     "output_type": "stream",
     "text": [
      "<class 'pandas.core.frame.DataFrame'>\n",
      "RangeIndex: 655785 entries, 0 to 655784\n",
      "Data columns (total 6 columns):\n",
      " #   Column        Non-Null Count   Dtype                        \n",
      "---  ------        --------------   -----                        \n",
      " 0   carpark_id    655785 non-null  object                       \n",
      " 1   carpark_name  655785 non-null  object                       \n",
      " 2   vendor        655785 non-null  object                       \n",
      " 3   unix_time     655785 non-null  int64                        \n",
      " 4   y             655785 non-null  float64                      \n",
      " 5   ds            655785 non-null  datetime64[ns, Europe/Berlin]\n",
      "dtypes: datetime64[ns, Europe/Berlin](1), float64(1), int64(1), object(3)\n",
      "memory usage: 30.0+ MB\n"
     ]
    }
   ],
   "source": [
    "df.info()"
   ]
  },
  {
   "cell_type": "code",
   "execution_count": 4,
   "id": "5a33e1ac",
   "metadata": {},
   "outputs": [
    {
     "name": "stdout",
     "output_type": "stream",
     "text": [
      "2025-10-23 04:43:11,632 INFO: Python Engine initialized.\n",
      "\n",
      "Logged in to project, explore it here https://hopsworks-stackit.hops.works/p/11384\n",
      "Feature Group created successfully, explore it at \n",
      "https://hopsworks-stackit.hops.works/p/11384/fs/11332/fg/10259\n"
     ]
    },
    {
     "name": "stderr",
     "output_type": "stream",
     "text": [
      "Uploading Dataframe: 100.00% |██████████| Rows 655785/655785 | Elapsed Time: 00:12 | Remaining Time: 00:00\n"
     ]
    },
    {
     "name": "stdout",
     "output_type": "stream",
     "text": [
      "Launching job: parking_1_offline_fg_materialization\n",
      "Job started successfully, you can follow the progress at \n",
      "https://hopsworks-stackit.hops.works/p/11384/jobs/named/parking_1_offline_fg_materialization/executions\n"
     ]
    },
    {
     "data": {
      "text/plain": [
       "(Job('parking_1_offline_fg_materialization', 'SPARK'), None)"
      ]
     },
     "execution_count": 4,
     "metadata": {},
     "output_type": "execute_result"
    }
   ],
   "source": [
    "import hopsworks\n",
    "proj = hopsworks.login()\n",
    "fs = proj.get_feature_store()\n",
    "\n",
    "fg = fs.get_or_create_feature_group(name=\"parking\", \n",
    "                                    version=1,\n",
    "                                    primary_key=['carpark_id'], \n",
    "                                    event_time=\"ds\",\n",
    "                                    description=\"Parking occupancy data for Heilbronn\"\n",
    "                                   )\n",
    "fg.insert(df)"
   ]
  },
  {
   "cell_type": "code",
   "execution_count": null,
   "id": "0d49c49f",
   "metadata": {},
   "outputs": [],
   "source": []
  }
 ],
 "metadata": {
  "kernelspec": {
   "display_name": "Python",
   "language": "python",
   "name": "python3"
  },
  "language_info": {
   "codemirror_mode": {
    "name": "ipython",
    "version": 3
   },
   "file_extension": ".py",
   "mimetype": "text/x-python",
   "name": "python",
   "nbconvert_exporter": "python",
   "pygments_lexer": "ipython3",
   "version": "3.10.11"
  }
 },
 "nbformat": 4,
 "nbformat_minor": 5
}
