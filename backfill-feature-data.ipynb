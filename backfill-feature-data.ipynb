{
 "cells": [
  {
   "cell_type": "code",
   "execution_count": 1,
   "id": "068b753d",
   "metadata": {},
   "outputs": [
    {
     "name": "stdout",
     "output_type": "stream",
     "text": [
      "Loaded 655785 rows and 4 columns.\n",
      "  carpark_id    carpark_name vendor  \\\n",
      "0      mitte  Parkhaus Mitte    MSR   \n",
      "1      mitte  Parkhaus Mitte    MSR   \n",
      "2      mitte  Parkhaus Mitte    MSR   \n",
      "3      mitte  Parkhaus Mitte    MSR   \n",
      "4      mitte  Parkhaus Mitte    MSR   \n",
      "\n",
      "                                      current  \n",
      "0  {'timestamp': 1728916440012, 'value': 218}  \n",
      "1  {'timestamp': 1728916560015, 'value': 215}  \n",
      "2  {'timestamp': 1728916680007, 'value': 209}  \n",
      "3  {'timestamp': 1728916800007, 'value': 206}  \n",
      "4  {'timestamp': 1728916920011, 'value': 200}  \n"
     ]
    }
   ],
   "source": [
    "import pandas as pd\n",
    "\n",
    "# Read all parquet files in the 'data' directory into a single DataFrame\n",
    "df = pd.read_parquet(\"data\")\n",
    "\n",
    "print(f\"Loaded {len(df)} rows and {len(df.columns)} columns.\")\n",
    "print(df.head())"
   ]
  },
  {
   "cell_type": "code",
   "execution_count": 2,
   "id": "9f97c9fc",
   "metadata": {},
   "outputs": [
    {
     "data": {
      "text/html": [
       "<div>\n",
       "<style scoped>\n",
       "    .dataframe tbody tr th:only-of-type {\n",
       "        vertical-align: middle;\n",
       "    }\n",
       "\n",
       "    .dataframe tbody tr th {\n",
       "        vertical-align: top;\n",
       "    }\n",
       "\n",
       "    .dataframe thead th {\n",
       "        text-align: right;\n",
       "    }\n",
       "</style>\n",
       "<table border=\"1\" class=\"dataframe\">\n",
       "  <thead>\n",
       "    <tr style=\"text-align: right;\">\n",
       "      <th></th>\n",
       "      <th>carpark_id</th>\n",
       "      <th>carpark_name</th>\n",
       "      <th>vendor</th>\n",
       "      <th>timestamp</th>\n",
       "      <th>value</th>\n",
       "    </tr>\n",
       "  </thead>\n",
       "  <tbody>\n",
       "    <tr>\n",
       "      <th>0</th>\n",
       "      <td>mitte</td>\n",
       "      <td>Parkhaus Mitte</td>\n",
       "      <td>MSR</td>\n",
       "      <td>1728916440012</td>\n",
       "      <td>218</td>\n",
       "    </tr>\n",
       "    <tr>\n",
       "      <th>1</th>\n",
       "      <td>mitte</td>\n",
       "      <td>Parkhaus Mitte</td>\n",
       "      <td>MSR</td>\n",
       "      <td>1728916560015</td>\n",
       "      <td>215</td>\n",
       "    </tr>\n",
       "    <tr>\n",
       "      <th>2</th>\n",
       "      <td>mitte</td>\n",
       "      <td>Parkhaus Mitte</td>\n",
       "      <td>MSR</td>\n",
       "      <td>1728916680007</td>\n",
       "      <td>209</td>\n",
       "    </tr>\n",
       "    <tr>\n",
       "      <th>3</th>\n",
       "      <td>mitte</td>\n",
       "      <td>Parkhaus Mitte</td>\n",
       "      <td>MSR</td>\n",
       "      <td>1728916800007</td>\n",
       "      <td>206</td>\n",
       "    </tr>\n",
       "    <tr>\n",
       "      <th>4</th>\n",
       "      <td>mitte</td>\n",
       "      <td>Parkhaus Mitte</td>\n",
       "      <td>MSR</td>\n",
       "      <td>1728916920011</td>\n",
       "      <td>200</td>\n",
       "    </tr>\n",
       "    <tr>\n",
       "      <th>...</th>\n",
       "      <td>...</td>\n",
       "      <td>...</td>\n",
       "      <td>...</td>\n",
       "      <td>...</td>\n",
       "      <td>...</td>\n",
       "    </tr>\n",
       "    <tr>\n",
       "      <th>655780</th>\n",
       "      <td>mitte</td>\n",
       "      <td>Parkhaus Mitte</td>\n",
       "      <td>MSR</td>\n",
       "      <td>1760651760002</td>\n",
       "      <td>19</td>\n",
       "    </tr>\n",
       "    <tr>\n",
       "      <th>655781</th>\n",
       "      <td>mitte</td>\n",
       "      <td>Parkhaus Mitte</td>\n",
       "      <td>MSR</td>\n",
       "      <td>1760651820003</td>\n",
       "      <td>20</td>\n",
       "    </tr>\n",
       "    <tr>\n",
       "      <th>655782</th>\n",
       "      <td>mitte</td>\n",
       "      <td>Parkhaus Mitte</td>\n",
       "      <td>MSR</td>\n",
       "      <td>1760651880003</td>\n",
       "      <td>25</td>\n",
       "    </tr>\n",
       "    <tr>\n",
       "      <th>655783</th>\n",
       "      <td>mitte</td>\n",
       "      <td>Parkhaus Mitte</td>\n",
       "      <td>MSR</td>\n",
       "      <td>1760651940004</td>\n",
       "      <td>19</td>\n",
       "    </tr>\n",
       "    <tr>\n",
       "      <th>655784</th>\n",
       "      <td>mitte</td>\n",
       "      <td>Parkhaus Mitte</td>\n",
       "      <td>MSR</td>\n",
       "      <td>1760652000004</td>\n",
       "      <td>18</td>\n",
       "    </tr>\n",
       "  </tbody>\n",
       "</table>\n",
       "<p>655785 rows × 5 columns</p>\n",
       "</div>"
      ],
      "text/plain": [
       "       carpark_id    carpark_name vendor      timestamp  value\n",
       "0           mitte  Parkhaus Mitte    MSR  1728916440012    218\n",
       "1           mitte  Parkhaus Mitte    MSR  1728916560015    215\n",
       "2           mitte  Parkhaus Mitte    MSR  1728916680007    209\n",
       "3           mitte  Parkhaus Mitte    MSR  1728916800007    206\n",
       "4           mitte  Parkhaus Mitte    MSR  1728916920011    200\n",
       "...           ...             ...    ...            ...    ...\n",
       "655780      mitte  Parkhaus Mitte    MSR  1760651760002     19\n",
       "655781      mitte  Parkhaus Mitte    MSR  1760651820003     20\n",
       "655782      mitte  Parkhaus Mitte    MSR  1760651880003     25\n",
       "655783      mitte  Parkhaus Mitte    MSR  1760651940004     19\n",
       "655784      mitte  Parkhaus Mitte    MSR  1760652000004     18\n",
       "\n",
       "[655785 rows x 5 columns]"
      ]
     },
     "execution_count": 2,
     "metadata": {},
     "output_type": "execute_result"
    }
   ],
   "source": [
    "current_df = pd.json_normalize(df[\"current\"])\n",
    "df = pd.concat([df.drop(columns=[\"current\"]), current_df], axis=1)\n",
    "df"
   ]
  },
  {
   "cell_type": "code",
   "execution_count": 3,
   "id": "b10bef76",
   "metadata": {},
   "outputs": [
    {
     "name": "stdout",
     "output_type": "stream",
     "text": [
      "<class 'pandas.core.frame.DataFrame'>\n",
      "RangeIndex: 655785 entries, 0 to 655784\n",
      "Data columns (total 5 columns):\n",
      " #   Column        Non-Null Count   Dtype \n",
      "---  ------        --------------   ----- \n",
      " 0   carpark_id    655785 non-null  object\n",
      " 1   carpark_name  655785 non-null  object\n",
      " 2   vendor        655785 non-null  object\n",
      " 3   timestamp     655785 non-null  int64 \n",
      " 4   value         655785 non-null  int64 \n",
      "dtypes: int64(2), object(3)\n",
      "memory usage: 25.0+ MB\n"
     ]
    }
   ],
   "source": [
    "df.info()"
   ]
  },
  {
   "cell_type": "code",
   "execution_count": 4,
   "id": "6ae1fc27",
   "metadata": {},
   "outputs": [
    {
     "name": "stdout",
     "output_type": "stream",
     "text": [
      "2025-10-22 15:08:23,202 INFO: Python Engine initialized.\n",
      "\n",
      "Logged in to project, explore it here https://snurran.devnet.hops.works/p/5243\n",
      "Feature Group created successfully, explore it at \n",
      "https://snurran.devnet.hops.works/p/5243/fs/5191/fg/5159\n"
     ]
    },
    {
     "name": "stderr",
     "output_type": "stream",
     "text": [
      "Uploading Dataframe: 100.00% |██████████| Rows 655785/655785 | Elapsed Time: 00:06 | Remaining Time: 00:00\n"
     ]
    },
    {
     "name": "stdout",
     "output_type": "stream",
     "text": [
      "Launching job: parking_1_offline_fg_materialization\n",
      "Job started successfully, you can follow the progress at \n",
      "https://snurran.devnet.hops.works/p/5243/jobs/named/parking_1_offline_fg_materialization/executions\n"
     ]
    },
    {
     "data": {
      "text/plain": [
       "(Job('parking_1_offline_fg_materialization', 'SPARK'), None)"
      ]
     },
     "execution_count": 4,
     "metadata": {},
     "output_type": "execute_result"
    }
   ],
   "source": [
    "import hopsworks\n",
    "proj = hopsworks.login()\n",
    "fs = proj.get_feature_store()\n",
    "\n",
    "fg = fs.get_or_create_feature_group(name=\"parking\", \n",
    "                                    version=1,\n",
    "                                    primary_key=['carpark_id'], \n",
    "                                    event_time=\"timestamp\",\n",
    "                                    description=\"Parking occupancy data for Heilbronn\"\n",
    "                                   )\n",
    "fg.insert(df)"
   ]
  },
  {
   "cell_type": "code",
   "execution_count": null,
   "id": "65e4a28a",
   "metadata": {},
   "outputs": [],
   "source": []
  }
 ],
 "metadata": {
  "kernelspec": {
   "display_name": "Python",
   "language": "python",
   "name": "python3"
  },
  "language_info": {
   "codemirror_mode": {
    "name": "ipython",
    "version": 3
   },
   "file_extension": ".py",
   "mimetype": "text/x-python",
   "name": "python",
   "nbconvert_exporter": "python",
   "pygments_lexer": "ipython3",
   "version": "3.10.11"
  }
 },
 "nbformat": 4,
 "nbformat_minor": 5
}
